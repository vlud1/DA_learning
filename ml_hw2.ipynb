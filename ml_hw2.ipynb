{
 "cells": [
  {
   "cell_type": "markdown",
   "id": "5840afc4",
   "metadata": {},
   "source": [
    "### На датасете lenta-ru-news.csv.bz2 построить классификатор для тем: 'Россия', 'Мир', 'Экономика', 'Спорт', 'Культура' "
   ]
  },
  {
   "cell_type": "code",
   "execution_count": 2,
   "id": "410b92c9",
   "metadata": {},
   "outputs": [],
   "source": [
    "import pandas as pd\n",
    "import numpy as np\n",
    "from sklearn.model_selection import train_test_split\n",
    "from sklearn.feature_extraction.text import TfidfVectorizer\n",
    "from sklearn.ensemble import GradientBoostingClassifier\n",
    "from sklearn.metrics import f1_score\n",
    "from sklearn import tree\n",
    "from nltk.corpus import stopwords\n",
    "import joblib\n",
    "random_state = 313"
   ]
  },
  {
   "cell_type": "code",
   "execution_count": 7,
   "id": "aaf694c9",
   "metadata": {},
   "outputs": [],
   "source": [
    "#установлен параметр low_memory=False для обхода ошибки \"Columns (3) have mixed types\"\n",
    "df = pd.read_csv('D:\\ds\\lenta-ru-news.csv', low_memory=False)"
   ]
  },
  {
   "cell_type": "code",
   "execution_count": 8,
   "id": "7a5eecbc",
   "metadata": {},
   "outputs": [
    {
     "data": {
      "text/html": [
       "<div>\n",
       "<style scoped>\n",
       "    .dataframe tbody tr th:only-of-type {\n",
       "        vertical-align: middle;\n",
       "    }\n",
       "\n",
       "    .dataframe tbody tr th {\n",
       "        vertical-align: top;\n",
       "    }\n",
       "\n",
       "    .dataframe thead th {\n",
       "        text-align: right;\n",
       "    }\n",
       "</style>\n",
       "<table border=\"1\" class=\"dataframe\">\n",
       "  <thead>\n",
       "    <tr style=\"text-align: right;\">\n",
       "      <th></th>\n",
       "      <th>url</th>\n",
       "      <th>title</th>\n",
       "      <th>text</th>\n",
       "      <th>topic</th>\n",
       "      <th>tags</th>\n",
       "      <th>date</th>\n",
       "    </tr>\n",
       "  </thead>\n",
       "  <tbody>\n",
       "    <tr>\n",
       "      <th>0</th>\n",
       "      <td>https://lenta.ru/news/1914/09/16/hungarnn/</td>\n",
       "      <td>1914. Русские войска вступили в пределы Венгрии</td>\n",
       "      <td>Бои у Сопоцкина и Друскеник закончились отступ...</td>\n",
       "      <td>Библиотека</td>\n",
       "      <td>Первая мировая</td>\n",
       "      <td>1914/09/16</td>\n",
       "    </tr>\n",
       "    <tr>\n",
       "      <th>1</th>\n",
       "      <td>https://lenta.ru/news/1914/09/16/lermontov/</td>\n",
       "      <td>1914. Празднование столетия М.Ю. Лермонтова от...</td>\n",
       "      <td>Министерство народного просвещения, в виду про...</td>\n",
       "      <td>Библиотека</td>\n",
       "      <td>Первая мировая</td>\n",
       "      <td>1914/09/16</td>\n",
       "    </tr>\n",
       "    <tr>\n",
       "      <th>2</th>\n",
       "      <td>https://lenta.ru/news/1914/09/17/nesteroff/</td>\n",
       "      <td>1914. Das ist Nesteroff!</td>\n",
       "      <td>Штабс-капитан П. Н. Нестеров на днях, увидев в...</td>\n",
       "      <td>Библиотека</td>\n",
       "      <td>Первая мировая</td>\n",
       "      <td>1914/09/17</td>\n",
       "    </tr>\n",
       "    <tr>\n",
       "      <th>3</th>\n",
       "      <td>https://lenta.ru/news/1914/09/17/bulldogn/</td>\n",
       "      <td>1914. Бульдог-гонец под Льежем</td>\n",
       "      <td>Фотограф-корреспондент Daily Mirror рассказыва...</td>\n",
       "      <td>Библиотека</td>\n",
       "      <td>Первая мировая</td>\n",
       "      <td>1914/09/17</td>\n",
       "    </tr>\n",
       "    <tr>\n",
       "      <th>4</th>\n",
       "      <td>https://lenta.ru/news/1914/09/18/zver/</td>\n",
       "      <td>1914. Под Люблином пойман швабский зверь</td>\n",
       "      <td>Лица, приехавшие в Варшаву из Люблина, передаю...</td>\n",
       "      <td>Библиотека</td>\n",
       "      <td>Первая мировая</td>\n",
       "      <td>1914/09/18</td>\n",
       "    </tr>\n",
       "    <tr>\n",
       "      <th>...</th>\n",
       "      <td>...</td>\n",
       "      <td>...</td>\n",
       "      <td>...</td>\n",
       "      <td>...</td>\n",
       "      <td>...</td>\n",
       "      <td>...</td>\n",
       "    </tr>\n",
       "    <tr>\n",
       "      <th>800970</th>\n",
       "      <td>https://lenta.ru/news/2019/12/14/shnur/</td>\n",
       "      <td>Шнуров раскритиковал Гагарину на «Голосе»</td>\n",
       "      <td>Певец Сергей Шнуров раскритиковал свою коллегу...</td>\n",
       "      <td>NaN</td>\n",
       "      <td>ТВ и радио</td>\n",
       "      <td>2019/12/14</td>\n",
       "    </tr>\n",
       "    <tr>\n",
       "      <th>800971</th>\n",
       "      <td>https://lenta.ru/news/2019/12/14/dolg/</td>\n",
       "      <td>В России предложили изменить правила взыскания...</td>\n",
       "      <td>Министерство юстиции России предложило изменит...</td>\n",
       "      <td>NaN</td>\n",
       "      <td>Все</td>\n",
       "      <td>2019/12/14</td>\n",
       "    </tr>\n",
       "    <tr>\n",
       "      <th>800972</th>\n",
       "      <td>https://lenta.ru/news/2019/12/14/dark_euro/</td>\n",
       "      <td>В России назвали «черную дату» для Европы</td>\n",
       "      <td>Испытание США ранее запрещенной Договором о ли...</td>\n",
       "      <td>NaN</td>\n",
       "      <td>Политика</td>\n",
       "      <td>2019/12/14</td>\n",
       "    </tr>\n",
       "    <tr>\n",
       "      <th>800973</th>\n",
       "      <td>https://lenta.ru/news/2019/12/14/meteo/</td>\n",
       "      <td>Россиянам пообещали аномально теплую погоду</td>\n",
       "      <td>В ближайшие дни в европейской части России пог...</td>\n",
       "      <td>NaN</td>\n",
       "      <td>Общество</td>\n",
       "      <td>2019/12/14</td>\n",
       "    </tr>\n",
       "    <tr>\n",
       "      <th>800974</th>\n",
       "      <td>https://lenta.ru/news/2019/12/14/olimp/</td>\n",
       "      <td>В конкурсе прогнозов на АПЛ разыграют 100 тыся...</td>\n",
       "      <td>Ведущие футбольные чемпионаты ушли на зимние к...</td>\n",
       "      <td>NaN</td>\n",
       "      <td>Английский футбол</td>\n",
       "      <td>2019/12/14</td>\n",
       "    </tr>\n",
       "  </tbody>\n",
       "</table>\n",
       "<p>800975 rows × 6 columns</p>\n",
       "</div>"
      ],
      "text/plain": [
       "                                                url  \\\n",
       "0        https://lenta.ru/news/1914/09/16/hungarnn/   \n",
       "1       https://lenta.ru/news/1914/09/16/lermontov/   \n",
       "2       https://lenta.ru/news/1914/09/17/nesteroff/   \n",
       "3        https://lenta.ru/news/1914/09/17/bulldogn/   \n",
       "4            https://lenta.ru/news/1914/09/18/zver/   \n",
       "...                                             ...   \n",
       "800970      https://lenta.ru/news/2019/12/14/shnur/   \n",
       "800971       https://lenta.ru/news/2019/12/14/dolg/   \n",
       "800972  https://lenta.ru/news/2019/12/14/dark_euro/   \n",
       "800973      https://lenta.ru/news/2019/12/14/meteo/   \n",
       "800974      https://lenta.ru/news/2019/12/14/olimp/   \n",
       "\n",
       "                                                    title  \\\n",
       "0       1914. Русские войска вступили в пределы Венгрии     \n",
       "1       1914. Празднование столетия М.Ю. Лермонтова от...   \n",
       "2                                1914. Das ist Nesteroff!   \n",
       "3                         1914. Бульдог-гонец под Льежем    \n",
       "4                1914. Под Люблином пойман швабский зверь   \n",
       "...                                                   ...   \n",
       "800970          Шнуров раскритиковал Гагарину на «Голосе»   \n",
       "800971  В России предложили изменить правила взыскания...   \n",
       "800972          В России назвали «черную дату» для Европы   \n",
       "800973        Россиянам пообещали аномально теплую погоду   \n",
       "800974  В конкурсе прогнозов на АПЛ разыграют 100 тыся...   \n",
       "\n",
       "                                                     text       topic  \\\n",
       "0       Бои у Сопоцкина и Друскеник закончились отступ...  Библиотека   \n",
       "1       Министерство народного просвещения, в виду про...  Библиотека   \n",
       "2       Штабс-капитан П. Н. Нестеров на днях, увидев в...  Библиотека   \n",
       "3       Фотограф-корреспондент Daily Mirror рассказыва...  Библиотека   \n",
       "4       Лица, приехавшие в Варшаву из Люблина, передаю...  Библиотека   \n",
       "...                                                   ...         ...   \n",
       "800970  Певец Сергей Шнуров раскритиковал свою коллегу...         NaN   \n",
       "800971  Министерство юстиции России предложило изменит...         NaN   \n",
       "800972  Испытание США ранее запрещенной Договором о ли...         NaN   \n",
       "800973  В ближайшие дни в европейской части России пог...         NaN   \n",
       "800974  Ведущие футбольные чемпионаты ушли на зимние к...         NaN   \n",
       "\n",
       "                     tags        date  \n",
       "0          Первая мировая  1914/09/16  \n",
       "1          Первая мировая  1914/09/16  \n",
       "2          Первая мировая  1914/09/17  \n",
       "3          Первая мировая  1914/09/17  \n",
       "4          Первая мировая  1914/09/18  \n",
       "...                   ...         ...  \n",
       "800970         ТВ и радио  2019/12/14  \n",
       "800971                Все  2019/12/14  \n",
       "800972           Политика  2019/12/14  \n",
       "800973           Общество  2019/12/14  \n",
       "800974  Английский футбол  2019/12/14  \n",
       "\n",
       "[800975 rows x 6 columns]"
      ]
     },
     "execution_count": 8,
     "metadata": {},
     "output_type": "execute_result"
    }
   ],
   "source": [
    "df"
   ]
  },
  {
   "cell_type": "code",
   "execution_count": 11,
   "id": "44566ca6",
   "metadata": {},
   "outputs": [
    {
     "data": {
      "text/plain": [
       "array(['Библиотека', 'Россия', 'Мир', 'Экономика', 'Интернет и СМИ',\n",
       "       'Спорт', 'Культура', 'Из жизни', 'Силовые структуры',\n",
       "       'Наука и техника', 'Бывший СССР', nan, 'Дом', 'Сочи', 'ЧМ-2014',\n",
       "       'Путешествия', 'Ценности', 'Легпром', 'Бизнес', 'МедНовости',\n",
       "       'Оружие', '69-я параллель', 'Культпросвет ', 'Крым'], dtype=object)"
      ]
     },
     "execution_count": 11,
     "metadata": {},
     "output_type": "execute_result"
    }
   ],
   "source": [
    "df.topic.unique()"
   ]
  },
  {
   "cell_type": "code",
   "execution_count": 13,
   "id": "e7b01eee",
   "metadata": {},
   "outputs": [],
   "source": [
    "topics_list = ['Россия', 'Мир', 'Экономика', 'Спорт', 'Культура']"
   ]
  },
  {
   "cell_type": "code",
   "execution_count": 14,
   "id": "d8bf49e2",
   "metadata": {},
   "outputs": [],
   "source": [
    "#оставляем только новости по заданным темам\n",
    "df = df[df.topic.isin(topics_list)]"
   ]
  },
  {
   "cell_type": "code",
   "execution_count": 15,
   "id": "d0cfde5f",
   "metadata": {},
   "outputs": [
    {
     "data": {
      "text/plain": [
       "array(['Россия', 'Мир', 'Экономика', 'Спорт', 'Культура'], dtype=object)"
      ]
     },
     "execution_count": 15,
     "metadata": {},
     "output_type": "execute_result"
    }
   ],
   "source": [
    "df.topic.unique()"
   ]
  },
  {
   "cell_type": "code",
   "execution_count": 16,
   "id": "6aaff40f",
   "metadata": {},
   "outputs": [
    {
     "data": {
      "text/plain": [
       "(494804, 6)"
      ]
     },
     "execution_count": 16,
     "metadata": {},
     "output_type": "execute_result"
    }
   ],
   "source": [
    "df.shape"
   ]
  },
  {
   "cell_type": "code",
   "execution_count": 18,
   "id": "7ac7b64c",
   "metadata": {},
   "outputs": [
    {
     "data": {
      "text/plain": [
       "url          0\n",
       "title        0\n",
       "text         5\n",
       "topic        0\n",
       "tags     15328\n",
       "date         0\n",
       "dtype: int64"
      ]
     },
     "execution_count": 18,
     "metadata": {},
     "output_type": "execute_result"
    }
   ],
   "source": [
    "df.isna().sum()"
   ]
  },
  {
   "cell_type": "code",
   "execution_count": 20,
   "id": "588adfb4",
   "metadata": {},
   "outputs": [
    {
     "data": {
      "text/plain": [
       "(494799, 6)"
      ]
     },
     "execution_count": 20,
     "metadata": {},
     "output_type": "execute_result"
    }
   ],
   "source": [
    "df = df.copy()\n",
    "df.dropna(subset=['text'], inplace = True)\n",
    "df.shape"
   ]
  },
  {
   "cell_type": "code",
   "execution_count": 22,
   "id": "50d06fd0",
   "metadata": {},
   "outputs": [],
   "source": [
    "df.drop(columns=['url', 'tags', 'date'], axis=1, inplace=True)"
   ]
  },
  {
   "cell_type": "code",
   "execution_count": 24,
   "id": "70d2bccd",
   "metadata": {},
   "outputs": [
    {
     "data": {
      "text/html": [
       "<div>\n",
       "<style scoped>\n",
       "    .dataframe tbody tr th:only-of-type {\n",
       "        vertical-align: middle;\n",
       "    }\n",
       "\n",
       "    .dataframe tbody tr th {\n",
       "        vertical-align: top;\n",
       "    }\n",
       "\n",
       "    .dataframe thead th {\n",
       "        text-align: right;\n",
       "    }\n",
       "</style>\n",
       "<table border=\"1\" class=\"dataframe\">\n",
       "  <thead>\n",
       "    <tr style=\"text-align: right;\">\n",
       "      <th></th>\n",
       "      <th>title</th>\n",
       "      <th>text</th>\n",
       "      <th>topic</th>\n",
       "    </tr>\n",
       "  </thead>\n",
       "  <tbody>\n",
       "    <tr>\n",
       "      <th>5</th>\n",
       "      <td>Космонавты сомневаются в надежности \"Мира\"</td>\n",
       "      <td>Как стало известно агентству Ассошиэйтед Пресс...</td>\n",
       "      <td>Россия</td>\n",
       "    </tr>\n",
       "    <tr>\n",
       "      <th>6</th>\n",
       "      <td>Взрыв в центре Москвы: пострадало 30 человек</td>\n",
       "      <td>В зале игровых автоматов в третьем ярусе подзе...</td>\n",
       "      <td>Россия</td>\n",
       "    </tr>\n",
       "    <tr>\n",
       "      <th>7</th>\n",
       "      <td>Япония кредитует Россию на полтора миллиарда д...</td>\n",
       "      <td>Япония приняла решение разморозить кредиты Рос...</td>\n",
       "      <td>Россия</td>\n",
       "    </tr>\n",
       "    <tr>\n",
       "      <th>8</th>\n",
       "      <td>Британцы отмечают двухлетие смерти Дианы</td>\n",
       "      <td>Британцы отмечают сегодня скорбную дату - втор...</td>\n",
       "      <td>Мир</td>\n",
       "    </tr>\n",
       "    <tr>\n",
       "      <th>9</th>\n",
       "      <td>Отмытые через Bank of NY деньги не имели отнош...</td>\n",
       "      <td>В понедельник директор департамента внешних св...</td>\n",
       "      <td>Россия</td>\n",
       "    </tr>\n",
       "    <tr>\n",
       "      <th>...</th>\n",
       "      <td>...</td>\n",
       "      <td>...</td>\n",
       "      <td>...</td>\n",
       "    </tr>\n",
       "    <tr>\n",
       "      <th>739168</th>\n",
       "      <td>Путин предостерег от запретов рэп-концертов</td>\n",
       "      <td>Президент России Владимир Путин, выступая на з...</td>\n",
       "      <td>Культура</td>\n",
       "    </tr>\n",
       "    <tr>\n",
       "      <th>739169</th>\n",
       "      <td>Путин подарил тяжелобольному мальчику обещанны...</td>\n",
       "      <td>Президент России Владимир Путин организовал дл...</td>\n",
       "      <td>Россия</td>\n",
       "    </tr>\n",
       "    <tr>\n",
       "      <th>739171</th>\n",
       "      <td>«Желтые жилеты» прорвали кордон полиции под «М...</td>\n",
       "      <td>Протесты движения «желтых жилетов» в Париже сн...</td>\n",
       "      <td>Мир</td>\n",
       "    </tr>\n",
       "    <tr>\n",
       "      <th>739174</th>\n",
       "      <td>Падение горнолыжника на полной скорости попало...</td>\n",
       "      <td>Швейцарский горнолыжник Марк Гизин неудачно пр...</td>\n",
       "      <td>Спорт</td>\n",
       "    </tr>\n",
       "    <tr>\n",
       "      <th>739175</th>\n",
       "      <td>Путин порассуждал о сексе, наркотиках и протес...</td>\n",
       "      <td>Президент России Владимир Путин рассказал, что...</td>\n",
       "      <td>Россия</td>\n",
       "    </tr>\n",
       "  </tbody>\n",
       "</table>\n",
       "<p>494799 rows × 3 columns</p>\n",
       "</div>"
      ],
      "text/plain": [
       "                                                    title  \\\n",
       "5              Космонавты сомневаются в надежности \"Мира\"   \n",
       "6            Взрыв в центре Москвы: пострадало 30 человек   \n",
       "7       Япония кредитует Россию на полтора миллиарда д...   \n",
       "8                Британцы отмечают двухлетие смерти Дианы   \n",
       "9       Отмытые через Bank of NY деньги не имели отнош...   \n",
       "...                                                   ...   \n",
       "739168        Путин предостерег от запретов рэп-концертов   \n",
       "739169  Путин подарил тяжелобольному мальчику обещанны...   \n",
       "739171  «Желтые жилеты» прорвали кордон полиции под «М...   \n",
       "739174  Падение горнолыжника на полной скорости попало...   \n",
       "739175  Путин порассуждал о сексе, наркотиках и протес...   \n",
       "\n",
       "                                                     text     topic  \n",
       "5       Как стало известно агентству Ассошиэйтед Пресс...    Россия  \n",
       "6       В зале игровых автоматов в третьем ярусе подзе...    Россия  \n",
       "7       Япония приняла решение разморозить кредиты Рос...    Россия  \n",
       "8       Британцы отмечают сегодня скорбную дату - втор...       Мир  \n",
       "9       В понедельник директор департамента внешних св...    Россия  \n",
       "...                                                   ...       ...  \n",
       "739168  Президент России Владимир Путин, выступая на з...  Культура  \n",
       "739169  Президент России Владимир Путин организовал дл...    Россия  \n",
       "739171  Протесты движения «желтых жилетов» в Париже сн...       Мир  \n",
       "739174  Швейцарский горнолыжник Марк Гизин неудачно пр...     Спорт  \n",
       "739175  Президент России Владимир Путин рассказал, что...    Россия  \n",
       "\n",
       "[494799 rows x 3 columns]"
      ]
     },
     "execution_count": 24,
     "metadata": {},
     "output_type": "execute_result"
    }
   ],
   "source": [
    "df"
   ]
  },
  {
   "cell_type": "code",
   "execution_count": 26,
   "id": "db31e058",
   "metadata": {},
   "outputs": [],
   "source": [
    "#преобразование текста (получаем матрицу слов, метод TF-IDF) \n",
    "text_transformer = TfidfVectorizer()\n",
    "text = text_transformer.fit_transform(df['text'])"
   ]
  },
  {
   "cell_type": "code",
   "execution_count": 27,
   "id": "71ffbfec",
   "metadata": {},
   "outputs": [
    {
     "data": {
      "text/plain": [
       "(494799, 821732)"
      ]
     },
     "execution_count": 27,
     "metadata": {},
     "output_type": "execute_result"
    }
   ],
   "source": [
    "text.shape"
   ]
  },
  {
   "cell_type": "code",
   "execution_count": 31,
   "id": "92cc8694",
   "metadata": {},
   "outputs": [],
   "source": [
    "#разделим сет текстов, на тестовые данные отводится 30%\n",
    "x_train, x_test, y_train, y_test = train_test_split(text, df['topic'], test_size=0.3, random_state=random_state)"
   ]
  },
  {
   "cell_type": "code",
   "execution_count": 37,
   "id": "d10d50bf",
   "metadata": {},
   "outputs": [
    {
     "name": "stdout",
     "output_type": "stream",
     "text": [
      "CPU times: total: 1h 1min 54s\n",
      "Wall time: 1h 2min\n"
     ]
    },
    {
     "data": {
      "text/plain": [
       "DecisionTreeClassifier()"
      ]
     },
     "execution_count": 37,
     "metadata": {},
     "output_type": "execute_result"
    }
   ],
   "source": [
    "%%time\n",
    "#обучение\n",
    "clf = tree.DecisionTreeClassifier()\n",
    "clf.fit(x_train, y_train)"
   ]
  },
  {
   "cell_type": "code",
   "execution_count": 40,
   "id": "1676815f",
   "metadata": {},
   "outputs": [
    {
     "name": "stdout",
     "output_type": "stream",
     "text": [
      "Качество модели по метрике F1 без допобработки = 0.7902\n"
     ]
    }
   ],
   "source": [
    "pred = clf.predict(x_test)\n",
    "print('Качество модели по метрике F1 без допобработки =', np.round(f1_score(y_test, pred, average='weighted'), decimals=4))"
   ]
  },
  {
   "cell_type": "markdown",
   "id": "939da6ff",
   "metadata": {},
   "source": [
    "### Произведем обработку текста"
   ]
  },
  {
   "cell_type": "code",
   "execution_count": 5,
   "id": "1a10c1d7",
   "metadata": {},
   "outputs": [
    {
     "name": "stdout",
     "output_type": "stream",
     "text": [
      "showing info https://raw.githubusercontent.com/nltk/nltk_data/gh-pages/index.xml\n"
     ]
    },
    {
     "data": {
      "text/plain": [
       "True"
      ]
     },
     "execution_count": 5,
     "metadata": {},
     "output_type": "execute_result"
    }
   ],
   "source": [
    "import nltk\n",
    "import ssl\n",
    "\n",
    "try:\n",
    "    _create_unverified_https_context = ssl._create_unverified_context\n",
    "except AttributeError:\n",
    "    pass\n",
    "else:\n",
    "    ssl._create_default_https_context = _create_unverified_https_context\n",
    "\n",
    "nltk.download()"
   ]
  },
  {
   "cell_type": "code",
   "execution_count": 6,
   "id": "8526e0a0",
   "metadata": {},
   "outputs": [
    {
     "name": "stderr",
     "output_type": "stream",
     "text": [
      "[nltk_data] Downloading package stopwords to\n",
      "[nltk_data]     C:\\Users\\Влад\\AppData\\Roaming\\nltk_data...\n",
      "[nltk_data]   Package stopwords is already up-to-date!\n"
     ]
    }
   ],
   "source": [
    "#подгружаем список русских стоп-слов\n",
    "nltk.download('stopwords')\n",
    "stop_russian = stopwords.words('russian')"
   ]
  },
  {
   "cell_type": "code",
   "execution_count": 135,
   "id": "6a0147d3",
   "metadata": {},
   "outputs": [],
   "source": [
    "#функция удаления из текста небуквенных символов\n",
    "import re\n",
    "def remove_trash(list):\n",
    "    pattern = r'[^А-Яа-я]+' #1 и более небуквенных символов\n",
    "    try:\n",
    "      list = [re.sub(pattern, ' ', i) for i in list] \n",
    "    except Exception as e:\n",
    "      print(e)\n",
    "    return list"
   ]
  },
  {
   "cell_type": "code",
   "execution_count": 136,
   "id": "f58fdee3",
   "metadata": {},
   "outputs": [
    {
     "name": "stdout",
     "output_type": "stream",
     "text": [
      "CPU times: total: 27.6 s\n",
      "Wall time: 27.7 s\n"
     ]
    }
   ],
   "source": [
    "%%time\n",
    "df['text_clean'] = remove_trash(df['text'])"
   ]
  },
  {
   "cell_type": "code",
   "execution_count": 137,
   "id": "6247378a",
   "metadata": {},
   "outputs": [
    {
     "data": {
      "text/html": [
       "<div>\n",
       "<style scoped>\n",
       "    .dataframe tbody tr th:only-of-type {\n",
       "        vertical-align: middle;\n",
       "    }\n",
       "\n",
       "    .dataframe tbody tr th {\n",
       "        vertical-align: top;\n",
       "    }\n",
       "\n",
       "    .dataframe thead th {\n",
       "        text-align: right;\n",
       "    }\n",
       "</style>\n",
       "<table border=\"1\" class=\"dataframe\">\n",
       "  <thead>\n",
       "    <tr style=\"text-align: right;\">\n",
       "      <th></th>\n",
       "      <th>level_0</th>\n",
       "      <th>index</th>\n",
       "      <th>title</th>\n",
       "      <th>text</th>\n",
       "      <th>topic</th>\n",
       "      <th>text_clean</th>\n",
       "    </tr>\n",
       "  </thead>\n",
       "  <tbody>\n",
       "    <tr>\n",
       "      <th>0</th>\n",
       "      <td>0</td>\n",
       "      <td>5</td>\n",
       "      <td>Космонавты сомневаются в надежности \"Мира\"</td>\n",
       "      <td>Как стало известно агентству Ассошиэйтед Пресс...</td>\n",
       "      <td>Россия</td>\n",
       "      <td>Как стало известно агентству Ассошиэйтед Пресс...</td>\n",
       "    </tr>\n",
       "    <tr>\n",
       "      <th>1</th>\n",
       "      <td>1</td>\n",
       "      <td>6</td>\n",
       "      <td>Взрыв в центре Москвы: пострадало 30 человек</td>\n",
       "      <td>В зале игровых автоматов в третьем ярусе подзе...</td>\n",
       "      <td>Россия</td>\n",
       "      <td>В зале игровых автоматов в третьем ярусе подзе...</td>\n",
       "    </tr>\n",
       "    <tr>\n",
       "      <th>2</th>\n",
       "      <td>2</td>\n",
       "      <td>7</td>\n",
       "      <td>Япония кредитует Россию на полтора миллиарда д...</td>\n",
       "      <td>Япония приняла решение разморозить кредиты Рос...</td>\n",
       "      <td>Россия</td>\n",
       "      <td>Япония приняла решение разморозить кредиты Рос...</td>\n",
       "    </tr>\n",
       "    <tr>\n",
       "      <th>3</th>\n",
       "      <td>3</td>\n",
       "      <td>8</td>\n",
       "      <td>Британцы отмечают двухлетие смерти Дианы</td>\n",
       "      <td>Британцы отмечают сегодня скорбную дату - втор...</td>\n",
       "      <td>Мир</td>\n",
       "      <td>Британцы отмечают сегодня скорбную дату вторую...</td>\n",
       "    </tr>\n",
       "    <tr>\n",
       "      <th>4</th>\n",
       "      <td>4</td>\n",
       "      <td>9</td>\n",
       "      <td>Отмытые через Bank of NY деньги не имели отнош...</td>\n",
       "      <td>В понедельник директор департамента внешних св...</td>\n",
       "      <td>Россия</td>\n",
       "      <td>В понедельник директор департамента внешних св...</td>\n",
       "    </tr>\n",
       "  </tbody>\n",
       "</table>\n",
       "</div>"
      ],
      "text/plain": [
       "   level_0  index                                              title  \\\n",
       "0        0      5         Космонавты сомневаются в надежности \"Мира\"   \n",
       "1        1      6       Взрыв в центре Москвы: пострадало 30 человек   \n",
       "2        2      7  Япония кредитует Россию на полтора миллиарда д...   \n",
       "3        3      8           Британцы отмечают двухлетие смерти Дианы   \n",
       "4        4      9  Отмытые через Bank of NY деньги не имели отнош...   \n",
       "\n",
       "                                                text   topic  \\\n",
       "0  Как стало известно агентству Ассошиэйтед Пресс...  Россия   \n",
       "1  В зале игровых автоматов в третьем ярусе подзе...  Россия   \n",
       "2  Япония приняла решение разморозить кредиты Рос...  Россия   \n",
       "3  Британцы отмечают сегодня скорбную дату - втор...     Мир   \n",
       "4  В понедельник директор департамента внешних св...  Россия   \n",
       "\n",
       "                                          text_clean  \n",
       "0  Как стало известно агентству Ассошиэйтед Пресс...  \n",
       "1  В зале игровых автоматов в третьем ярусе подзе...  \n",
       "2  Япония приняла решение разморозить кредиты Рос...  \n",
       "3  Британцы отмечают сегодня скорбную дату вторую...  \n",
       "4  В понедельник директор департамента внешних св...  "
      ]
     },
     "execution_count": 137,
     "metadata": {},
     "output_type": "execute_result"
    }
   ],
   "source": [
    "df.head()"
   ]
  },
  {
   "cell_type": "code",
   "execution_count": 138,
   "id": "c67e286b",
   "metadata": {},
   "outputs": [
    {
     "data": {
      "text/plain": [
       "level_0       0\n",
       "index         0\n",
       "title         0\n",
       "text          0\n",
       "topic         0\n",
       "text_clean    0\n",
       "dtype: int64"
      ]
     },
     "execution_count": 138,
     "metadata": {},
     "output_type": "execute_result"
    }
   ],
   "source": [
    "df.isna().sum()"
   ]
  },
  {
   "cell_type": "code",
   "execution_count": 139,
   "id": "5a859f2f",
   "metadata": {},
   "outputs": [],
   "source": [
    "import pymorphy2\n",
    "morph = pymorphy2.MorphAnalyzer()\n",
    "#функция лемматизации (приведение к первой форме слова), слова из 1-2 букв выбрасываем\n",
    "def lemmatize(row):\n",
    "    t = []\n",
    "    text = row['text_clean']\n",
    "    for word in text.split():\n",
    "        if len(word)<=2:\n",
    "            continue\n",
    "        p = morph.parse(word)[0]\n",
    "        t.append(p.normal_form)\n",
    "    return \" \".join(t)"
   ]
  },
  {
   "cell_type": "code",
   "execution_count": 140,
   "id": "5ce133c2",
   "metadata": {},
   "outputs": [
    {
     "name": "stdout",
     "output_type": "stream",
     "text": [
      "CPU times: total: 2h 31min 36s\n",
      "Wall time: 2h 31min 38s\n"
     ]
    }
   ],
   "source": [
    "%%time\n",
    "#обработка текстов (лемматизация)\n",
    "df['text_clean_normal'] = df.apply(lemmatize, axis=1)"
   ]
  },
  {
   "cell_type": "code",
   "execution_count": 141,
   "id": "72b67d48",
   "metadata": {},
   "outputs": [
    {
     "data": {
      "text/html": [
       "<div>\n",
       "<style scoped>\n",
       "    .dataframe tbody tr th:only-of-type {\n",
       "        vertical-align: middle;\n",
       "    }\n",
       "\n",
       "    .dataframe tbody tr th {\n",
       "        vertical-align: top;\n",
       "    }\n",
       "\n",
       "    .dataframe thead th {\n",
       "        text-align: right;\n",
       "    }\n",
       "</style>\n",
       "<table border=\"1\" class=\"dataframe\">\n",
       "  <thead>\n",
       "    <tr style=\"text-align: right;\">\n",
       "      <th></th>\n",
       "      <th>level_0</th>\n",
       "      <th>index</th>\n",
       "      <th>title</th>\n",
       "      <th>text</th>\n",
       "      <th>topic</th>\n",
       "      <th>text_clean</th>\n",
       "      <th>text_clean_normal</th>\n",
       "    </tr>\n",
       "  </thead>\n",
       "  <tbody>\n",
       "    <tr>\n",
       "      <th>0</th>\n",
       "      <td>0</td>\n",
       "      <td>5</td>\n",
       "      <td>Космонавты сомневаются в надежности \"Мира\"</td>\n",
       "      <td>Как стало известно агентству Ассошиэйтед Пресс...</td>\n",
       "      <td>Россия</td>\n",
       "      <td>Как стало известно агентству Ассошиэйтед Пресс...</td>\n",
       "      <td>как стать известно агентство ассошиэйтед пресс...</td>\n",
       "    </tr>\n",
       "    <tr>\n",
       "      <th>1</th>\n",
       "      <td>1</td>\n",
       "      <td>6</td>\n",
       "      <td>Взрыв в центре Москвы: пострадало 30 человек</td>\n",
       "      <td>В зале игровых автоматов в третьем ярусе подзе...</td>\n",
       "      <td>Россия</td>\n",
       "      <td>В зале игровых автоматов в третьем ярусе подзе...</td>\n",
       "      <td>зал игровой автомат третий ярус подземный комп...</td>\n",
       "    </tr>\n",
       "    <tr>\n",
       "      <th>2</th>\n",
       "      <td>2</td>\n",
       "      <td>7</td>\n",
       "      <td>Япония кредитует Россию на полтора миллиарда д...</td>\n",
       "      <td>Япония приняла решение разморозить кредиты Рос...</td>\n",
       "      <td>Россия</td>\n",
       "      <td>Япония приняла решение разморозить кредиты Рос...</td>\n",
       "      <td>япония принять решение разморозить кредит росс...</td>\n",
       "    </tr>\n",
       "    <tr>\n",
       "      <th>3</th>\n",
       "      <td>3</td>\n",
       "      <td>8</td>\n",
       "      <td>Британцы отмечают двухлетие смерти Дианы</td>\n",
       "      <td>Британцы отмечают сегодня скорбную дату - втор...</td>\n",
       "      <td>Мир</td>\n",
       "      <td>Британцы отмечают сегодня скорбную дату вторую...</td>\n",
       "      <td>британец отмечать сегодня скорбный дата вторую...</td>\n",
       "    </tr>\n",
       "    <tr>\n",
       "      <th>4</th>\n",
       "      <td>4</td>\n",
       "      <td>9</td>\n",
       "      <td>Отмытые через Bank of NY деньги не имели отнош...</td>\n",
       "      <td>В понедельник директор департамента внешних св...</td>\n",
       "      <td>Россия</td>\n",
       "      <td>В понедельник директор департамента внешних св...</td>\n",
       "      <td>понедельник директор департамент внешний связь...</td>\n",
       "    </tr>\n",
       "  </tbody>\n",
       "</table>\n",
       "</div>"
      ],
      "text/plain": [
       "   level_0  index                                              title  \\\n",
       "0        0      5         Космонавты сомневаются в надежности \"Мира\"   \n",
       "1        1      6       Взрыв в центре Москвы: пострадало 30 человек   \n",
       "2        2      7  Япония кредитует Россию на полтора миллиарда д...   \n",
       "3        3      8           Британцы отмечают двухлетие смерти Дианы   \n",
       "4        4      9  Отмытые через Bank of NY деньги не имели отнош...   \n",
       "\n",
       "                                                text   topic  \\\n",
       "0  Как стало известно агентству Ассошиэйтед Пресс...  Россия   \n",
       "1  В зале игровых автоматов в третьем ярусе подзе...  Россия   \n",
       "2  Япония приняла решение разморозить кредиты Рос...  Россия   \n",
       "3  Британцы отмечают сегодня скорбную дату - втор...     Мир   \n",
       "4  В понедельник директор департамента внешних св...  Россия   \n",
       "\n",
       "                                          text_clean  \\\n",
       "0  Как стало известно агентству Ассошиэйтед Пресс...   \n",
       "1  В зале игровых автоматов в третьем ярусе подзе...   \n",
       "2  Япония приняла решение разморозить кредиты Рос...   \n",
       "3  Британцы отмечают сегодня скорбную дату вторую...   \n",
       "4  В понедельник директор департамента внешних св...   \n",
       "\n",
       "                                   text_clean_normal  \n",
       "0  как стать известно агентство ассошиэйтед пресс...  \n",
       "1  зал игровой автомат третий ярус подземный комп...  \n",
       "2  япония принять решение разморозить кредит росс...  \n",
       "3  британец отмечать сегодня скорбный дата вторую...  \n",
       "4  понедельник директор департамент внешний связь...  "
      ]
     },
     "execution_count": 141,
     "metadata": {},
     "output_type": "execute_result"
    }
   ],
   "source": [
    "df.head()"
   ]
  },
  {
   "cell_type": "code",
   "execution_count": 142,
   "id": "880cd85d",
   "metadata": {},
   "outputs": [
    {
     "name": "stdout",
     "output_type": "stream",
     "text": [
      "CPU times: total: 50.4 s\n",
      "Wall time: 50.9 s\n"
     ]
    }
   ],
   "source": [
    "%%time\n",
    "#проведем разделение выборки и обучение на обработанных данных\n",
    "text_transformer = TfidfVectorizer(stop_words=stop_russian, \n",
    "                                   ngram_range=(1,1), #будем брать последовательность из одного слова\n",
    "                                   lowercase=True)\n",
    "text_norm = text_transformer.fit_transform(df['text_clean_normal'])\n",
    "x_train, x_test, y_train, y_test = train_test_split(text_norm, df['topic'], test_size=0.3, random_state=random_state)"
   ]
  },
  {
   "cell_type": "code",
   "execution_count": 143,
   "id": "f2f4e291",
   "metadata": {},
   "outputs": [
    {
     "data": {
      "text/plain": [
       "(346359, 314955)"
      ]
     },
     "execution_count": 143,
     "metadata": {},
     "output_type": "execute_result"
    }
   ],
   "source": [
    "x_train.shape"
   ]
  },
  {
   "cell_type": "code",
   "execution_count": 144,
   "id": "3fc22146",
   "metadata": {},
   "outputs": [
    {
     "name": "stdout",
     "output_type": "stream",
     "text": [
      "CPU times: total: 33min 7s\n",
      "Wall time: 33min 7s\n"
     ]
    },
    {
     "data": {
      "text/plain": [
       "DecisionTreeClassifier()"
      ]
     },
     "execution_count": 144,
     "metadata": {},
     "output_type": "execute_result"
    }
   ],
   "source": [
    "%%time\n",
    "clf_norm = tree.DecisionTreeClassifier()\n",
    "clf_norm.fit(x_train, y_train)"
   ]
  },
  {
   "cell_type": "code",
   "execution_count": 151,
   "id": "87e75832",
   "metadata": {},
   "outputs": [
    {
     "name": "stdout",
     "output_type": "stream",
     "text": [
      "Качество модели по метрике F1 после обработки текста (очистка от небуквенных символов, \n",
      "слов из 1-2 букв и лемматизации) =  0.815\n"
     ]
    }
   ],
   "source": [
    "pred_norm = clf_norm.predict(x_test)\n",
    "print('Качество модели по метрике F1 после обработки текста (очистка от небуквенных символов, \\nслов из 1-2 букв и лемматизации) = ', np.round(f1_score(y_test, pred_norm, average='weighted'), decimals=4))"
   ]
  },
  {
   "cell_type": "code",
   "execution_count": 149,
   "id": "6abb3529",
   "metadata": {},
   "outputs": [],
   "source": [
    "#сохранить подготовленный датафрейм для дальшейней работы\n",
    "with open('df_for_model_hw2.pkl', 'wb') as f:\n",
    "    joblib.dump(df, f)"
   ]
  },
  {
   "cell_type": "code",
   "execution_count": 3,
   "id": "5846eb0a",
   "metadata": {},
   "outputs": [],
   "source": [
    "df = joblib.load('df_for_model_hw2.pkl')"
   ]
  },
  {
   "cell_type": "code",
   "execution_count": 7,
   "id": "d2b8e772",
   "metadata": {},
   "outputs": [
    {
     "name": "stdout",
     "output_type": "stream",
     "text": [
      "CPU times: total: 2min 57s\n",
      "Wall time: 2min 57s\n"
     ]
    }
   ],
   "source": [
    "%%time\n",
    "text_transformer = TfidfVectorizer(stop_words=stop_russian, \n",
    "                                   ngram_range=(1,2), #попробуем обучить модель, используя дополнительно последовательности из двух слов\n",
    "                                   lowercase=True)\n",
    "text_norm_2 = text_transformer.fit_transform(df['text_clean_normal'])\n",
    "x_train_2, x_test_2, y_train_2, y_test_2 = train_test_split(text_norm_2, df['topic'], test_size=0.3, random_state=random_state)"
   ]
  },
  {
   "cell_type": "code",
   "execution_count": 8,
   "id": "cf009b88",
   "metadata": {},
   "outputs": [
    {
     "data": {
      "text/plain": [
       "(346359, 12779395)"
      ]
     },
     "execution_count": 8,
     "metadata": {},
     "output_type": "execute_result"
    }
   ],
   "source": [
    "x_train_2.shape"
   ]
  },
  {
   "cell_type": "code",
   "execution_count": 9,
   "id": "a8b74896",
   "metadata": {},
   "outputs": [
    {
     "name": "stdout",
     "output_type": "stream",
     "text": [
      "CPU times: total: 5h 36min 6s\n",
      "Wall time: 5h 36min 22s\n"
     ]
    },
    {
     "data": {
      "text/plain": [
       "DecisionTreeClassifier()"
      ]
     },
     "execution_count": 9,
     "metadata": {},
     "output_type": "execute_result"
    }
   ],
   "source": [
    "%%time\n",
    "clf_norm_2 = tree.DecisionTreeClassifier()\n",
    "clf_norm_2.fit(x_train_2, y_train_2)"
   ]
  },
  {
   "cell_type": "code",
   "execution_count": 11,
   "id": "83b19cdc",
   "metadata": {},
   "outputs": [
    {
     "name": "stdout",
     "output_type": "stream",
     "text": [
      "Качество модели по метрике F1 после обработки текста (очистка от небуквенных символов, \n",
      "слов из 1-2 букв и лемматизации) с дополнительным использованием биграмм =  0.8187\n"
     ]
    }
   ],
   "source": [
    "pred_norm_2 = clf_norm_2.predict(x_test_2)\n",
    "print('Качество модели по метрике F1 после обработки текста (очистка от небуквенных символов, \\nслов из 1-2 букв и лемматизации) с дополнительным использованием биграмм = ', np.round(f1_score(y_test_2, pred_norm_2, average='weighted'), decimals=4))"
   ]
  }
 ],
 "metadata": {
  "kernelspec": {
   "display_name": "Python 3 (ipykernel)",
   "language": "python",
   "name": "python3"
  },
  "language_info": {
   "codemirror_mode": {
    "name": "ipython",
    "version": 3
   },
   "file_extension": ".py",
   "mimetype": "text/x-python",
   "name": "python",
   "nbconvert_exporter": "python",
   "pygments_lexer": "ipython3",
   "version": "3.9.12"
  }
 },
 "nbformat": 4,
 "nbformat_minor": 5
}
